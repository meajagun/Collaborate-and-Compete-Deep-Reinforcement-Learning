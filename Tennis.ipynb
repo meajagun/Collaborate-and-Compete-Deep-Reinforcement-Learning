{
 "cells": [
  {
   "cell_type": "markdown",
   "metadata": {},
   "source": [
    "# Collaboration and Competition\n",
    "\n",
    "---\n",
    "\n",
    "In this notebook, you will learn how to use the Unity ML-Agents environment for the third project of the [Deep Reinforcement Learning Nanodegree](https://www.udacity.com/course/deep-reinforcement-learning-nanodegree--nd893) program.\n",
    "\n",
    "### 1. Start the Environment\n",
    "\n",
    "We begin by importing the necessary packages.  If the code cell below returns an error, please revisit the project instructions to double-check that you have installed [Unity ML-Agents](https://github.com/Unity-Technologies/ml-agents/blob/master/docs/Installation.md) and [NumPy](http://www.numpy.org/)."
   ]
  },
  {
   "cell_type": "code",
   "execution_count": 1,
   "metadata": {},
   "outputs": [],
   "source": [
    "from unityagents import UnityEnvironment\n",
    "import numpy as np"
   ]
  },
  {
   "cell_type": "markdown",
   "metadata": {},
   "source": [
    "Next, we will start the environment!  **_Before running the code cell below_**, change the `file_name` parameter to match the location of the Unity environment that you downloaded.\n",
    "\n",
    "- **Mac**: `\"path/to/Tennis.app\"`\n",
    "- **Windows** (x86): `\"path/to/Tennis_Windows_x86/Tennis.exe\"`\n",
    "- **Windows** (x86_64): `\"path/to/Tennis_Windows_x86_64/Tennis.exe\"`\n",
    "- **Linux** (x86): `\"path/to/Tennis_Linux/Tennis.x86\"`\n",
    "- **Linux** (x86_64): `\"path/to/Tennis_Linux/Tennis.x86_64\"`\n",
    "- **Linux** (x86, headless): `\"path/to/Tennis_Linux_NoVis/Tennis.x86\"`\n",
    "- **Linux** (x86_64, headless): `\"path/to/Tennis_Linux_NoVis/Tennis.x86_64\"`\n",
    "\n",
    "For instance, if you are using a Mac, then you downloaded `Tennis.app`.  If this file is in the same folder as the notebook, then the line below should appear as follows:\n",
    "```\n",
    "env = UnityEnvironment(file_name=\"Tennis.app\")\n",
    "```"
   ]
  },
  {
   "cell_type": "code",
   "execution_count": 2,
   "metadata": {},
   "outputs": [
    {
     "name": "stderr",
     "output_type": "stream",
     "text": [
      "INFO:unityagents:\n",
      "'Academy' started successfully!\n",
      "Unity Academy name: Academy\n",
      "        Number of Brains: 1\n",
      "        Number of External Brains : 1\n",
      "        Lesson number : 0\n",
      "        Reset Parameters :\n",
      "\t\t\n",
      "Unity brain name: TennisBrain\n",
      "        Number of Visual Observations (per agent): 0\n",
      "        Vector Observation space type: continuous\n",
      "        Vector Observation space size (per agent): 8\n",
      "        Number of stacked Vector Observation: 3\n",
      "        Vector Action space type: continuous\n",
      "        Vector Action space size (per agent): 2\n",
      "        Vector Action descriptions: , \n"
     ]
    }
   ],
   "source": [
    "env = UnityEnvironment(file_name=\"Tennis_Windows_x86_64/Tennis.exe\")"
   ]
  },
  {
   "cell_type": "markdown",
   "metadata": {},
   "source": [
    "Environments contain **_brains_** which are responsible for deciding the actions of their associated agents. Here we check for the first brain available, and set it as the default brain we will be controlling from Python."
   ]
  },
  {
   "cell_type": "code",
   "execution_count": 3,
   "metadata": {},
   "outputs": [],
   "source": [
    "# get the default brain\n",
    "brain_name = env.brain_names[0]\n",
    "brain = env.brains[brain_name]"
   ]
  },
  {
   "cell_type": "markdown",
   "metadata": {},
   "source": [
    "### 2. Examine the State and Action Spaces\n",
    "\n",
    "In this environment, two agents control rackets to bounce a ball over a net. If an agent hits the ball over the net, it receives a reward of +0.1.  If an agent lets a ball hit the ground or hits the ball out of bounds, it receives a reward of -0.01.  Thus, the goal of each agent is to keep the ball in play.\n",
    "\n",
    "The observation space consists of 8 variables corresponding to the position and velocity of the ball and racket. Two continuous actions are available, corresponding to movement toward (or away from) the net, and jumping. \n",
    "\n",
    "Run the code cell below to print some information about the environment."
   ]
  },
  {
   "cell_type": "code",
   "execution_count": 4,
   "metadata": {},
   "outputs": [
    {
     "name": "stdout",
     "output_type": "stream",
     "text": [
      "Number of agents: 2\n",
      "Size of each action: 2\n",
      "There are 2 agents. Each observes a state with length: 24\n",
      "The state for the first agent looks like: [ 0.          0.          0.          0.          0.          0.\n",
      "  0.          0.          0.          0.          0.          0.\n",
      "  0.          0.          0.          0.         -6.65278625 -1.5\n",
      " -0.          0.          6.83172083  6.         -0.          0.        ]\n"
     ]
    }
   ],
   "source": [
    "# reset the environment\n",
    "env_info = env.reset(train_mode=True)[brain_name]\n",
    "\n",
    "# number of agents \n",
    "num_agents = len(env_info.agents)\n",
    "print('Number of agents:', num_agents)\n",
    "\n",
    "# size of each action\n",
    "action_size = brain.vector_action_space_size\n",
    "print('Size of each action:', action_size)\n",
    "\n",
    "# examine the state space \n",
    "states = env_info.vector_observations\n",
    "state_size = states.shape[1]\n",
    "print('There are {} agents. Each observes a state with length: {}'.format(states.shape[0], state_size))\n",
    "print('The state for the first agent looks like:', states[0])"
   ]
  },
  {
   "cell_type": "markdown",
   "metadata": {},
   "source": [
    "### 3. Take Random Actions in the Environment\n",
    "\n",
    "In the next code cell, you will learn how to use the Python API to control the agents and receive feedback from the environment.\n",
    "\n",
    "Once this cell is executed, you will watch the agents' performance, if they select actions at random with each time step.  A window should pop up that allows you to observe the agents.\n",
    "\n",
    "Of course, as part of the project, you'll have to change the code so that the agents are able to use their experiences to gradually choose better actions when interacting with the environment!"
   ]
  },
  {
   "cell_type": "code",
   "execution_count": 5,
   "metadata": {},
   "outputs": [
    {
     "name": "stdout",
     "output_type": "stream",
     "text": [
      "Score (max over agents) from episode 1: 0.09000000171363354\n",
      "Score (max over agents) from episode 2: 0.10000000149011612\n",
      "Score (max over agents) from episode 3: 0.0\n",
      "Score (max over agents) from episode 4: 0.0\n",
      "Score (max over agents) from episode 5: 0.0\n"
     ]
    }
   ],
   "source": [
    "for i in range(1, 6):                                      # play game for 5 episodes\n",
    "    env_info = env.reset(train_mode=False)[brain_name]     # reset the environment    \n",
    "    states = env_info.vector_observations                  # get the current state (for each agent)\n",
    "    scores = np.zeros(num_agents)                          # initialize the score (for each agent)\n",
    "    while True:\n",
    "        actions = np.random.randn(num_agents, action_size) # select an action (for each agent)\n",
    "        actions = np.clip(actions, -1, 1)                  # all actions between -1 and 1\n",
    "        env_info = env.step(actions)[brain_name]           # send all actions to tne environment\n",
    "        next_states = env_info.vector_observations         # get next state (for each agent)\n",
    "        rewards = env_info.rewards                         # get reward (for each agent)\n",
    "        dones = env_info.local_done                        # see if episode finished\n",
    "        scores += env_info.rewards                         # update the score (for each agent)\n",
    "        states = next_states                               # roll over states to next time step\n",
    "        if np.any(dones):                                  # exit loop if episode finished\n",
    "            break\n",
    "    print('Score (max over agents) from episode {}: {}'.format(i, np.max(scores)))"
   ]
  },
  {
   "cell_type": "markdown",
   "metadata": {},
   "source": [
    "### 4. It's Your Turn!\n",
    "\n",
    "Now it's your turn to train your own agent to solve the environment!  When training the environment, set `train_mode=True`, so that the line for resetting the environment looks like the following:\n",
    "```python\n",
    "env_info = env.reset(train_mode=True)[brain_name]\n",
    "```"
   ]
  },
  {
   "cell_type": "code",
   "execution_count": 6,
   "metadata": {
    "scrolled": true
   },
   "outputs": [],
   "source": [
    "import matplotlib.pyplot as plt\n",
    "import torch\n",
    "import time\n",
    "import random\n",
    "from collections import deque\n",
    "from maddpg_agent import Agent\n",
    "\n",
    "%matplotlib inline"
   ]
  },
  {
   "cell_type": "code",
   "execution_count": 7,
   "metadata": {},
   "outputs": [],
   "source": [
    "# MADDPG function\n",
    "def train_maddpg(n_episodes=2500, max_t=1000, consec_episodes=100, target_score=0.5, print_every=20, add_noise=True):\n",
    "    \"\"\"Multi-Agent Deep Deterministic Policy Gradient (MADDPG)\"\"\"\n",
    "    \n",
    "    n_agents = 2 # number of agents\n",
    "    states_len = 24 # number of states\n",
    "    agents_states = n_agents * states_len # combine states for both agents\n",
    "    \n",
    "    scores_window = deque(maxlen=100) # scores from recent episodes\n",
    "    scores_all = [] # list of scores from episodes\n",
    "    scores_moving_avgs = []  # list of scores moving averages\n",
    "    \n",
    "    for i_episode in range(1, n_episodes+1):\n",
    "        env_info = env.reset(train_mode=True)[brain_name] # reset the environment\n",
    "        states = np.reshape(env_info.vector_observations, (1, agents_states)) # get current state for each agent and combine them\n",
    "        agent_0.reset() # reset agent_0 environment\n",
    "        agent_1.reset() # reset agent_0 environment\n",
    "        scores = np.zeros(num_agents)  # initialize score for both agents\n",
    "        \n",
    "        eps_start_time = time.time() # start time to train each episode\n",
    "        while True:\n",
    "            action_0 = agent_0.act(states, add_noise) # select an action_0\n",
    "            action_1 = agent_1.act(states, add_noise) # select an action_1           \n",
    "            actions = np.concatenate((action_0, action_1), axis=0).flatten() # combine actions for both agents\n",
    "            env_info = env.step(actions)[brain_name] # send actions for both agents to the environment\n",
    "            next_states = np.reshape(env_info.vector_observations, (1, agents_states)) # combine the agent next states\n",
    "            rewards = env_info.rewards # get reward\n",
    "            done = env_info.local_done # see if episode finished\n",
    "            agent_0.step(states, actions, rewards[0], next_states, done, 0) # update and train agent_0\n",
    "            agent_1.step(states, actions, rewards[1], next_states, done, 1) # update and train agent_1\n",
    "            scores += np.max(rewards) # update the scores for each agent\n",
    "            states = next_states # roll over states to next time step\n",
    "            if np.any(done): # exit loop at end of episode\n",
    "                break\n",
    "\n",
    "        time_per_eps = (time.time() - eps_start_time)/60.0 # end after training each episode\n",
    "        max_score = np.max(scores)  # max scores for each episode\n",
    "        scores_window.append(max_score) # save max scores for the episode to list\n",
    "        scores_all.append(max_score) # save max scores to window\n",
    "        scores_moving_avgs.append(np.mean(scores_window)) # save max scores moving average to list\n",
    "\n",
    "        # print and save training results\n",
    "        if i_episode % print_every == 0:\n",
    "            print('\\rEpisodes {}\\tScore: {:.3f}\\tAverage Score: {:.3f}\\tMax Reward: {:.3f}\\tTime per episode: {:.2f}mins'.format(i_episode, scores_all[-1], scores_moving_avgs[-1], np.max(scores_all[-20:]), time_per_eps))\n",
    "            torch.save(agent_0.actor_local.state_dict(), 'checkpoint_actor_0.pth')\n",
    "            torch.save(agent_1.actor_local.state_dict(), 'checkpoint_actor_1.pth')\n",
    "            torch.save(agent_0.critic_local.state_dict(), 'checkpoint_critic_0.pth')\n",
    "            torch.save(agent_1.critic_local.state_dict(), 'checkpoint_critic_1.pth')\n",
    "            \n",
    "        # determine if environment is solved and save training results of models\n",
    "        if scores_moving_avgs[-1] >= target_score and i_episode >= consec_episodes:\n",
    "            print('\\nEnvironment solved in {} episodes! \\tAverage Score: {:.3f}.'.format(i_episode, scores_moving_avgs[-1]))\n",
    "            # save weights\n",
    "            torch.save(agent_0.actor_local.state_dict(), 'checkpoint_actor_0.pth')\n",
    "            torch.save(agent_1.actor_local.state_dict(), 'checkpoint_actor_1.pth')\n",
    "            torch.save(agent_0.critic_local.state_dict(), 'checkpoint_critic_0.pth')\n",
    "            torch.save(agent_1.critic_local.state_dict(), 'checkpoint_critic_1.pth')\n",
    "            break\n",
    "            \n",
    "    return scores_all, scores_moving_avgs"
   ]
  },
  {
   "cell_type": "code",
   "execution_count": 10,
   "metadata": {
    "scrolled": false
   },
   "outputs": [
    {
     "name": "stdout",
     "output_type": "stream",
     "text": [
      "Episodes 20\tScore: 0.000\tAverage Score: 0.000\tMax Reward: 0.000\tTime per episode: 0.08mins\n",
      "Episodes 40\tScore: 0.000\tAverage Score: 0.003\tMax Reward: 0.100\tTime per episode: 0.09mins\n",
      "Episodes 60\tScore: 0.000\tAverage Score: 0.003\tMax Reward: 0.100\tTime per episode: 0.09mins\n",
      "Episodes 80\tScore: 0.000\tAverage Score: 0.003\tMax Reward: 0.000\tTime per episode: 0.09mins\n",
      "Episodes 100\tScore: 0.000\tAverage Score: 0.003\tMax Reward: 0.100\tTime per episode: 0.09mins\n",
      "Episodes 120\tScore: 0.100\tAverage Score: 0.011\tMax Reward: 0.100\tTime per episode: 0.19mins\n",
      "Episodes 140\tScore: 0.100\tAverage Score: 0.016\tMax Reward: 0.200\tTime per episode: 0.20mins\n",
      "Episodes 160\tScore: 0.000\tAverage Score: 0.022\tMax Reward: 0.200\tTime per episode: 0.09mins\n",
      "Episodes 180\tScore: 0.200\tAverage Score: 0.031\tMax Reward: 0.200\tTime per episode: 0.32mins\n",
      "Episodes 200\tScore: 0.100\tAverage Score: 0.039\tMax Reward: 0.200\tTime per episode: 0.19mins\n",
      "Episodes 220\tScore: 0.100\tAverage Score: 0.048\tMax Reward: 0.600\tTime per episode: 0.18mins\n",
      "Episodes 240\tScore: 0.000\tAverage Score: 0.050\tMax Reward: 0.200\tTime per episode: 0.09mins\n",
      "Episodes 260\tScore: 0.100\tAverage Score: 0.055\tMax Reward: 0.200\tTime per episode: 0.15mins\n",
      "Episodes 280\tScore: 0.100\tAverage Score: 0.056\tMax Reward: 0.200\tTime per episode: 0.20mins\n",
      "Episodes 300\tScore: 0.200\tAverage Score: 0.062\tMax Reward: 0.300\tTime per episode: 0.38mins\n",
      "Episodes 320\tScore: 0.100\tAverage Score: 0.055\tMax Reward: 0.200\tTime per episode: 0.20mins\n",
      "Episodes 340\tScore: 0.100\tAverage Score: 0.062\tMax Reward: 0.200\tTime per episode: 0.20mins\n",
      "Episodes 360\tScore: 0.000\tAverage Score: 0.057\tMax Reward: 0.100\tTime per episode: 0.09mins\n",
      "Episodes 380\tScore: 0.100\tAverage Score: 0.058\tMax Reward: 0.200\tTime per episode: 0.17mins\n",
      "Episodes 400\tScore: 0.000\tAverage Score: 0.058\tMax Reward: 0.200\tTime per episode: 0.08mins\n",
      "Episodes 420\tScore: 0.000\tAverage Score: 0.058\tMax Reward: 0.200\tTime per episode: 0.09mins\n",
      "Episodes 440\tScore: 0.000\tAverage Score: 0.048\tMax Reward: 0.200\tTime per episode: 0.12mins\n",
      "Episodes 460\tScore: 0.000\tAverage Score: 0.044\tMax Reward: 0.100\tTime per episode: 0.09mins\n",
      "Episodes 480\tScore: 0.100\tAverage Score: 0.044\tMax Reward: 0.300\tTime per episode: 0.20mins\n",
      "Episodes 500\tScore: 0.000\tAverage Score: 0.041\tMax Reward: 0.200\tTime per episode: 0.10mins\n",
      "Episodes 520\tScore: 0.100\tAverage Score: 0.044\tMax Reward: 0.200\tTime per episode: 0.22mins\n",
      "Episodes 540\tScore: 0.000\tAverage Score: 0.052\tMax Reward: 0.300\tTime per episode: 0.10mins\n",
      "Episodes 560\tScore: 0.000\tAverage Score: 0.061\tMax Reward: 0.200\tTime per episode: 0.10mins\n",
      "Episodes 580\tScore: 0.100\tAverage Score: 0.068\tMax Reward: 0.300\tTime per episode: 0.19mins\n",
      "Episodes 600\tScore: 0.000\tAverage Score: 0.073\tMax Reward: 0.200\tTime per episode: 0.09mins\n",
      "Episodes 620\tScore: 0.100\tAverage Score: 0.077\tMax Reward: 0.400\tTime per episode: 0.21mins\n",
      "Episodes 640\tScore: 0.000\tAverage Score: 0.076\tMax Reward: 0.300\tTime per episode: 0.10mins\n",
      "Episodes 660\tScore: 0.100\tAverage Score: 0.076\tMax Reward: 0.100\tTime per episode: 0.21mins\n",
      "Episodes 680\tScore: 0.000\tAverage Score: 0.071\tMax Reward: 0.200\tTime per episode: 0.09mins\n",
      "Episodes 700\tScore: 0.200\tAverage Score: 0.066\tMax Reward: 0.200\tTime per episode: 0.37mins\n",
      "Episodes 720\tScore: 0.100\tAverage Score: 0.065\tMax Reward: 0.200\tTime per episode: 0.20mins\n",
      "Episodes 740\tScore: 0.200\tAverage Score: 0.081\tMax Reward: 0.400\tTime per episode: 0.37mins\n",
      "Episodes 760\tScore: 0.100\tAverage Score: 0.084\tMax Reward: 0.100\tTime per episode: 0.21mins\n",
      "Episodes 780\tScore: 0.200\tAverage Score: 0.088\tMax Reward: 0.300\tTime per episode: 0.33mins\n",
      "Episodes 800\tScore: 0.000\tAverage Score: 0.092\tMax Reward: 0.300\tTime per episode: 0.11mins\n",
      "Episodes 820\tScore: 0.200\tAverage Score: 0.095\tMax Reward: 0.300\tTime per episode: 0.35mins\n",
      "Episodes 840\tScore: 0.100\tAverage Score: 0.082\tMax Reward: 0.300\tTime per episode: 0.21mins\n",
      "Episodes 860\tScore: 0.000\tAverage Score: 0.081\tMax Reward: 0.300\tTime per episode: 0.09mins\n",
      "Episodes 880\tScore: 0.100\tAverage Score: 0.081\tMax Reward: 0.200\tTime per episode: 0.20mins\n",
      "Episodes 900\tScore: 0.100\tAverage Score: 0.080\tMax Reward: 0.300\tTime per episode: 0.20mins\n",
      "Episodes 920\tScore: 0.200\tAverage Score: 0.077\tMax Reward: 0.200\tTime per episode: 0.22mins\n",
      "Episodes 940\tScore: 0.100\tAverage Score: 0.079\tMax Reward: 0.200\tTime per episode: 0.19mins\n",
      "Episodes 960\tScore: 0.100\tAverage Score: 0.095\tMax Reward: 0.300\tTime per episode: 0.19mins\n",
      "Episodes 980\tScore: 0.000\tAverage Score: 0.095\tMax Reward: 0.300\tTime per episode: 0.10mins\n",
      "Episodes 1000\tScore: 0.200\tAverage Score: 0.101\tMax Reward: 0.300\tTime per episode: 0.35mins\n",
      "Episodes 1020\tScore: 0.000\tAverage Score: 0.100\tMax Reward: 0.200\tTime per episode: 0.09mins\n",
      "Episodes 1040\tScore: 0.100\tAverage Score: 0.105\tMax Reward: 0.300\tTime per episode: 0.24mins\n",
      "Episodes 1060\tScore: 0.100\tAverage Score: 0.098\tMax Reward: 0.300\tTime per episode: 0.19mins\n",
      "Episodes 1080\tScore: 0.100\tAverage Score: 0.098\tMax Reward: 0.300\tTime per episode: 0.18mins\n",
      "Episodes 1100\tScore: 0.100\tAverage Score: 0.092\tMax Reward: 0.300\tTime per episode: 0.19mins\n",
      "Episodes 1120\tScore: 0.200\tAverage Score: 0.099\tMax Reward: 0.300\tTime per episode: 0.35mins\n",
      "Episodes 1140\tScore: 0.100\tAverage Score: 0.109\tMax Reward: 0.700\tTime per episode: 0.20mins\n",
      "Episodes 1160\tScore: 0.100\tAverage Score: 0.117\tMax Reward: 0.700\tTime per episode: 0.19mins\n",
      "Episodes 1180\tScore: 0.100\tAverage Score: 0.130\tMax Reward: 0.400\tTime per episode: 0.19mins\n",
      "Episodes 1200\tScore: 0.300\tAverage Score: 0.155\tMax Reward: 0.400\tTime per episode: 0.43mins\n",
      "Episodes 1220\tScore: 0.200\tAverage Score: 0.172\tMax Reward: 0.400\tTime per episode: 0.33mins\n",
      "Episodes 1240\tScore: 0.100\tAverage Score: 0.176\tMax Reward: 0.300\tTime per episode: 0.19mins\n",
      "Episodes 1260\tScore: 0.100\tAverage Score: 0.176\tMax Reward: 0.300\tTime per episode: 0.20mins\n",
      "Episodes 1280\tScore: 0.200\tAverage Score: 0.182\tMax Reward: 0.300\tTime per episode: 0.34mins\n",
      "Episodes 1300\tScore: 0.100\tAverage Score: 0.174\tMax Reward: 0.400\tTime per episode: 0.19mins\n",
      "Episodes 1320\tScore: 0.100\tAverage Score: 0.175\tMax Reward: 0.900\tTime per episode: 0.19mins\n",
      "Episodes 1340\tScore: 0.300\tAverage Score: 0.177\tMax Reward: 0.500\tTime per episode: 0.41mins\n",
      "Episodes 1360\tScore: 0.100\tAverage Score: 0.183\tMax Reward: 1.000\tTime per episode: 0.19mins\n",
      "Episodes 1380\tScore: 0.200\tAverage Score: 0.170\tMax Reward: 0.300\tTime per episode: 0.46mins\n",
      "Episodes 1400\tScore: 0.200\tAverage Score: 0.164\tMax Reward: 0.400\tTime per episode: 0.32mins\n",
      "Episodes 1420\tScore: 0.000\tAverage Score: 0.139\tMax Reward: 0.400\tTime per episode: 0.09mins\n",
      "Episodes 1440\tScore: 0.100\tAverage Score: 0.125\tMax Reward: 0.400\tTime per episode: 0.20mins\n",
      "Episodes 1460\tScore: 0.000\tAverage Score: 0.108\tMax Reward: 0.600\tTime per episode: 0.08mins\n",
      "Episodes 1480\tScore: 0.200\tAverage Score: 0.115\tMax Reward: 0.500\tTime per episode: 0.32mins\n",
      "Episodes 1500\tScore: 0.100\tAverage Score: 0.114\tMax Reward: 0.500\tTime per episode: 0.19mins\n",
      "Episodes 1520\tScore: 0.100\tAverage Score: 0.136\tMax Reward: 0.800\tTime per episode: 0.17mins\n",
      "Episodes 1540\tScore: 0.200\tAverage Score: 0.140\tMax Reward: 0.400\tTime per episode: 0.31mins\n",
      "Episodes 1560\tScore: 0.200\tAverage Score: 0.146\tMax Reward: 0.300\tTime per episode: 0.31mins\n",
      "Episodes 1580\tScore: 0.200\tAverage Score: 0.147\tMax Reward: 0.500\tTime per episode: 0.30mins\n",
      "Episodes 1600\tScore: 0.400\tAverage Score: 0.158\tMax Reward: 0.500\tTime per episode: 0.60mins\n",
      "Episodes 1620\tScore: 0.100\tAverage Score: 0.144\tMax Reward: 0.200\tTime per episode: 0.18mins\n",
      "Episodes 1640\tScore: 0.100\tAverage Score: 0.149\tMax Reward: 0.400\tTime per episode: 0.18mins\n",
      "Episodes 1660\tScore: 0.000\tAverage Score: 0.150\tMax Reward: 0.500\tTime per episode: 0.08mins\n",
      "Episodes 1680\tScore: 0.000\tAverage Score: 0.138\tMax Reward: 0.300\tTime per episode: 0.12mins\n",
      "Episodes 1700\tScore: 0.100\tAverage Score: 0.126\tMax Reward: 0.300\tTime per episode: 0.18mins\n",
      "Episodes 1720\tScore: 0.200\tAverage Score: 0.132\tMax Reward: 0.300\tTime per episode: 0.30mins\n",
      "Episodes 1740\tScore: 0.100\tAverage Score: 0.142\tMax Reward: 0.600\tTime per episode: 0.18mins\n",
      "Episodes 1760\tScore: 0.400\tAverage Score: 0.156\tMax Reward: 0.500\tTime per episode: 0.55mins\n",
      "Episodes 1780\tScore: 0.100\tAverage Score: 0.185\tMax Reward: 0.600\tTime per episode: 0.27mins\n"
     ]
    },
    {
     "name": "stdout",
     "output_type": "stream",
     "text": [
      "Episodes 1800\tScore: 0.400\tAverage Score: 0.204\tMax Reward: 0.700\tTime per episode: 0.53mins\n",
      "Episodes 1820\tScore: 0.100\tAverage Score: 0.217\tMax Reward: 0.600\tTime per episode: 0.27mins\n",
      "Episodes 1840\tScore: 0.200\tAverage Score: 0.239\tMax Reward: 0.800\tTime per episode: 0.31mins\n",
      "Episodes 1860\tScore: 0.200\tAverage Score: 0.255\tMax Reward: 0.600\tTime per episode: 0.30mins\n",
      "Episodes 1880\tScore: 0.300\tAverage Score: 0.264\tMax Reward: 0.700\tTime per episode: 0.40mins\n",
      "Episodes 1900\tScore: 0.100\tAverage Score: 0.267\tMax Reward: 0.500\tTime per episode: 0.17mins\n",
      "Episodes 1920\tScore: 0.100\tAverage Score: 0.284\tMax Reward: 0.800\tTime per episode: 0.18mins\n",
      "Episodes 1940\tScore: 0.100\tAverage Score: 0.281\tMax Reward: 1.000\tTime per episode: 0.18mins\n",
      "Episodes 1960\tScore: 0.300\tAverage Score: 0.287\tMax Reward: 0.700\tTime per episode: 0.39mins\n",
      "Episodes 1980\tScore: 0.500\tAverage Score: 0.307\tMax Reward: 0.900\tTime per episode: 0.70mins\n",
      "Episodes 2000\tScore: 0.300\tAverage Score: 0.343\tMax Reward: 1.100\tTime per episode: 0.42mins\n",
      "Episodes 2020\tScore: 0.200\tAverage Score: 0.331\tMax Reward: 0.500\tTime per episode: 0.31mins\n",
      "Episodes 2040\tScore: 0.300\tAverage Score: 0.312\tMax Reward: 0.400\tTime per episode: 0.40mins\n",
      "Episodes 2060\tScore: 0.200\tAverage Score: 0.292\tMax Reward: 0.400\tTime per episode: 0.30mins\n",
      "Episodes 2080\tScore: 0.300\tAverage Score: 0.277\tMax Reward: 0.500\tTime per episode: 0.41mins\n",
      "Episodes 2100\tScore: 0.100\tAverage Score: 0.254\tMax Reward: 1.100\tTime per episode: 0.17mins\n",
      "Episodes 2120\tScore: 0.300\tAverage Score: 0.279\tMax Reward: 1.200\tTime per episode: 0.39mins\n",
      "Episodes 2140\tScore: 0.300\tAverage Score: 0.283\tMax Reward: 0.500\tTime per episode: 0.39mins\n",
      "Episodes 2160\tScore: 0.100\tAverage Score: 0.304\tMax Reward: 1.600\tTime per episode: 0.18mins\n",
      "Episodes 2180\tScore: 0.300\tAverage Score: 0.286\tMax Reward: 0.700\tTime per episode: 0.44mins\n",
      "Episodes 2200\tScore: 0.100\tAverage Score: 0.394\tMax Reward: 4.600\tTime per episode: 0.19mins\n",
      "Episodes 2220\tScore: 0.300\tAverage Score: 0.437\tMax Reward: 1.700\tTime per episode: 0.41mins\n",
      "\n",
      "Environment solved in 2235 episodes! \tAverage Score: 0.503.\n",
      "Total time it took to train agents: 577.87mins.\n"
     ]
    }
   ],
   "source": [
    "# initialize and train the Agents\n",
    "agent_0 = Agent(state_size, action_size, num_agents=1, random_seed=0)\n",
    "agent_1 = Agent(state_size, action_size, num_agents=1, random_seed=0)\n",
    "start_time = time.time() # Time Agents started training\n",
    "scores, avgs_scores = train_maddpg()\n",
    "elapsed_time = (time.time() - start_time) / 60.0 # Duration of time it took the Agents to train\n",
    "print(\"Total time it took to train agents: {0:3.2f}mins.\".format(elapsed_time))"
   ]
  },
  {
   "cell_type": "code",
   "execution_count": 12,
   "metadata": {},
   "outputs": [
    {
     "data": {
      "image/png": "[encoded data removed]",
      "text/plain": [
       "<Figure size 432x288 with 1 Axes>"
      ]
     },
     "metadata": {
      "needs_background": "light"
     },
     "output_type": "display_data"
    }
   ],
   "source": [
    "# Plot the scores of trained DDPG Agents\n",
    "fig = plt.figure()\n",
    "ax = fig.add_subplot(111)\n",
    "plt.plot(np.arange(len(scores)), scores, label='MADDPG Agents Scores')\n",
    "plt.plot(np.arange(len(scores)), avgs_scores, c='m', label='Moving Average of Scores')\n",
    "plt.ylabel('Scores')\n",
    "plt.xlabel('Number of Episodes')\n",
    "plt.legend(loc='upper left')\n",
    "plt.show()"
   ]
  },
  {
   "cell_type": "markdown",
   "metadata": {},
   "source": [
    "When finished, you can close the environment."
   ]
  },
  {
   "cell_type": "code",
   "execution_count": 13,
   "metadata": {},
   "outputs": [],
   "source": [
    "env.close()"
   ]
  }
 ],
 "metadata": {
  "kernelspec": {
   "display_name": "Python 3",
   "language": "python",
   "name": "python3"
  },
  "language_info": {
   "codemirror_mode": {
    "name": "ipython",
    "version": 3
   },
   "file_extension": ".py",
   "mimetype": "text/x-python",
   "name": "python",
   "nbconvert_exporter": "python",
   "pygments_lexer": "ipython3",
   "version": "3.6.9"
  }
 },
 "nbformat": 4,
 "nbformat_minor": 2
}
